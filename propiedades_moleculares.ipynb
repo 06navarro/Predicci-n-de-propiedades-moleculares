{
  "cells": [
    {
      "cell_type": "markdown",
      "metadata": {
        "colab_type": "text",
        "id": "view-in-github"
      },
      "source": [
        "<a href=\"https://colab.research.google.com/github/06navarro/Predicci-n-de-propiedades-moleculares/blob/main/propiedades_moleculares.ipynb\" target=\"_parent\"><img src=\"https://colab.research.google.com/assets/colab-badge.svg\" alt=\"Open In Colab\"/></a>"
      ]
    },
    {
      "cell_type": "markdown",
      "metadata": {
        "id": "6YGUmIuN9ZGS"
      },
      "source": [
        "Primero debemos importar las librerias que vamos a utilizar, para lo cual se debe descargar el kaggle.json (adjunto) para obtener los datos "
      ]
    },
    {
      "cell_type": "code",
      "execution_count": null,
      "metadata": {
        "id": "YQsLMGFD7tr_"
      },
      "outputs": [],
      "source": [
        "!pip install -U -q kaggle\n",
        "!mkdir -p ~/.kaggle\n",
        "from google.colab import files\n",
        "files.upload()"
      ]
    },
    {
      "cell_type": "code",
      "execution_count": null,
      "metadata": {},
      "outputs": [],
      "source": [
        "!cp kaggle.json ~/.kaggle/"
      ]
    },
    {
      "cell_type": "code",
      "execution_count": null,
      "metadata": {},
      "outputs": [],
      "source": [
        "!kaggle competitions download -c champs-scalar-coupling"
      ]
    },
    {
      "cell_type": "code",
      "execution_count": null,
      "metadata": {},
      "outputs": [],
      "source": [
        "!unzip champs-scalar-coupling.zip"
      ]
    },
    {
      "cell_type": "code",
      "execution_count": null,
      "metadata": {},
      "outputs": [],
      "source": [
        "import numpy as np \n",
        "import pandas as pd\n",
        "import matplotlib.pyplot as plt\n",
        "import seaborn as sn\n",
        "import warnings\n",
        "warnings.filterwarnings('ignore')\n",
        "from sklearn.metrics import make_scorer,mean_squared_error\n",
        "from sklearn.model_selection import cross_val_score\n",
        "import random\n",
        "random.seed(42)\n",
        "import os\n",
        "#print(os.listdir(\"../input\"))"
      ]
    },
    {
      "cell_type": "markdown",
      "metadata": {
        "id": "RynmjAgt9isa"
      },
      "source": [
        "Necesitamos los siguientes datos, los cuales hemos descargado y guardado en una carpeta llamada input"
      ]
    },
    {
      "cell_type": "code",
      "execution_count": null,
      "metadata": {
        "id": "co-zTVNy8DOL"
      },
      "outputs": [],
      "source": [
        "pot_energy=pd.read_csv('potential_energy.csv')#('../input/potential_energy.csv')\n",
        "mulliken_charges=pd.read_csv('mulliken_charges.csv')#('../input/mulliken_charges.csv')\n",
        "train_df=pd.read_csv('train.csv')#('../input/train.csv')\n",
        "scalar_coupling_cont=pd.read_csv('scalar_coupling_contributions.csv')#('../input/scalar_coupling_contributions.csv')\n",
        "test_df=pd.read_csv('test.csv')#('../input/test.csv')\n",
        "magnetic_shield_tensor=pd.read_csv('magnetic_shielding_tensors.csv')#('../input/magnetic_shielding_tensors.csv')\n",
        "dipole_moment=pd.read_csv('dipole_moments.csv')#('../input/dipole_moments.csv')\n",
        "structures=pd.read_csv('structures.csv')#('../input/structures.csv')"
      ]
    },
    {
      "cell_type": "code",
      "execution_count": null,
      "metadata": {
        "id": "lzCaUWbL8DLq"
      },
      "outputs": [],
      "source": [
        "print('Shape of potential energy dataset:',pot_energy.shape)\n",
        "print('Shape of mulliken_charges dataset:',mulliken_charges.shape)\n",
        "print('Shape of train dataset:',train_df.shape)\n",
        "print('Shape of scalar coupling contributions dataset:',scalar_coupling_cont.shape)\n",
        "print('Shape of test dataset:',test_df.shape)\n",
        "print('Shape of magnetic shielding tensors dataset:',magnetic_shield_tensor.shape)\n",
        "print('Shape of dipole moments dataset:',dipole_moment.shape)\n",
        "print('Shape of structures dataset:',structures.shape)"
      ]
    },
    {
      "cell_type": "markdown",
      "metadata": {
        "id": "xf2OdNMa9ynY"
      },
      "source": [
        "Iniciamos la exploracion de los dataset"
      ]
    },
    {
      "cell_type": "code",
      "execution_count": null,
      "metadata": {
        "id": "GFghOnav8DJL"
      },
      "outputs": [],
      "source": [
        "#Dataset de energia\n",
        "print('Data Types:\\n',pot_energy.dtypes)\n",
        "print('Descriptive statistics:\\n',np.round(pot_energy.describe(),3))\n",
        "pot_energy.head(6)\n",
        "\n",
        "\n",
        "\n",
        "#Datasetes de la carga\n",
        "print('Data Types:\\n',mulliken_charges.dtypes)\n",
        "print('Descriptive statistics:\\n',np.round(mulliken_charges.describe(),3))\n",
        "mulliken_charges.head(6)\n",
        "\n",
        "\n",
        "#Datasetes \n",
        "print('Data Types:\\n',train_df.dtypes)\n",
        "print('Descriptive statistics:\\n',np.round(train_df.describe(),3))\n",
        "train_df.head(6)\n",
        "\n",
        "\n",
        "\n",
        "#Datasetes del acople escalar\n",
        "print('Data Types:\\n',scalar_coupling_cont.dtypes)\n",
        "print('Descriptive statistics:\\n',np.round(scalar_coupling_cont.describe(),3))\n",
        "scalar_coupling_cont.head(6)\n",
        "\n",
        "#Dataset estadistico\n",
        "print('Data Types:\\n',test_df.dtypes)\n",
        "print('Descriptive statistics:\\n',np.round(test_df.describe(),3))\n",
        "test_df.head(6)\n",
        "\n",
        "#Dataset de tensor de campo magnetico\n",
        "print('Data Types:\\n',magnetic_shield_tensor.dtypes)\n",
        "print('Descriptive statistics:\\n',np.round(magnetic_shield_tensor.describe(),3))\n",
        "magnetic_shield_tensor.head(6)\n",
        "\n",
        "\n",
        "#Dataset de la estructura\n",
        "print('Data Types:\\n',structures.dtypes)\n",
        "print('Descriptive statistics:\\n',np.round(structures.describe(),3))\n",
        "structures.head(6)"
      ]
    },
    {
      "cell_type": "markdown",
      "metadata": {
        "id": "fklnpjzh93H6"
      },
      "source": [
        "Realizamos un mapa de la estructura atomica y la probamos"
      ]
    },
    {
      "cell_type": "code",
      "execution_count": null,
      "metadata": {
        "id": "wTqGr8BD8DGs"
      },
      "outputs": [],
      "source": [
        "def map_atom_data(df,atom_idx):\n",
        "    df=pd.merge(df,structures,how='left',\n",
        "               left_on=['molecule_name',f'atom_index_{atom_idx}'],\n",
        "               right_on=['molecule_name','atom_index'])\n",
        "    df=df.drop('atom_index',axis=1)\n",
        "    df=df.rename(columns={'atom':f'atom_{atom_idx}',\n",
        "                         'x':f'x_{atom_idx}',\n",
        "                         'y':f'y_{atom_idx}',\n",
        "                         'z':f'z_{atom_idx}'})\n",
        "    return df\n",
        "\n",
        "train_df=map_atom_data(train_df,0)\n",
        "train_df=map_atom_data(train_df,1)\n",
        "\n",
        "test_df=map_atom_data(test_df,0)\n",
        "test_df=map_atom_data(test_df,1)"
      ]
    },
    {
      "cell_type": "code",
      "execution_count": null,
      "metadata": {},
      "outputs": [],
      "source": [
        "train_m_0=train_df[['x_0','y_0','z_0']].values\n",
        "train_m_1=train_df[['x_1','y_1','z_1']].values\n",
        "\n",
        "test_m_0=test_df[['x_0','y_0','z_0']].values\n",
        "test_m_1=test_df[['x_0','y_0','z_0']].values\n",
        "\n",
        "\n",
        "train_df['dist_vector']=np.linalg.norm(train_m_0-train_m_1,axis=1)\n",
        "train_df['dist_X']=(train_df['x_0']-train_df['x_1'])**2\n",
        "train_df['dist_Y']=(train_df['y_0']-train_df['y_1'])**2\n",
        "train_df['dist_Z']=(train_df['z_0']-train_df['z_1'])**2\n",
        "\n",
        "\n",
        "test_df['dist_vector']=np.linalg.norm(test_m_0-test_m_1,axis=1)\n",
        "test_df['dist_X']=(test_df['x_0']-test_df['x_1'])**2\n",
        "test_df['dist_Y']=(test_df['y_0']-test_df['y_1'])**2\n",
        "test_df['dist_Z']=(test_df['z_0']-test_df['z_1'])**2"
      ]
    },
    {
      "cell_type": "code",
      "execution_count": null,
      "metadata": {},
      "outputs": [],
      "source": [
        "train_df['type_0']=train_df['type'].apply(lambda x:x)\n",
        "test_df['type_0']=test_df['type'].apply(lambda x : x)\n",
        "\n",
        "train_df=train_df.drop(columns=['molecule_name','type'],axis=1)\n",
        "display(train_df.head(6))\n",
        "\n",
        "\n",
        "test_df=test_df.drop(columns=['molecule_name','type'],axis=1)\n",
        "display(test_df.head(10))"
      ]
    },
    {
      "cell_type": "markdown",
      "metadata": {
        "id": "coHMfppP998i"
      },
      "source": [
        "Hacemos un histograma de visualizacion"
      ]
    },
    {
      "cell_type": "code",
      "execution_count": null,
      "metadata": {
        "id": "WIo2cjAD8DDs"
      },
      "outputs": [],
      "source": [
        "train_df['type_0']=train_df.type_0.astype('category')\n",
        "train_df['atom_0']=train_df.atom_0.astype('category')\n",
        "train_df['atom_1']=train_df.atom_1.astype('category')\n",
        "\n",
        "\n",
        "test_df['type_0']=test_df.type_0.astype('category')\n",
        "test_df['atom_0']=test_df.atom_0.astype('category')\n",
        "test_df['atom_1']=test_df.atom_1.astype('category')\n"
      ]
    },
    {
      "cell_type": "code",
      "execution_count": null,
      "metadata": {},
      "outputs": [],
      "source": [
        "plt.hist(train_df['scalar_coupling_constant'])\n",
        "plt.ylabel('No of times')\n",
        "plt.xlabel('scalar copling constant')\n",
        "plt.show()"
      ]
    },
    {
      "cell_type": "code",
      "execution_count": null,
      "metadata": {},
      "outputs": [],
      "source": [
        "plt.hist(train_df['dist_vector'])\n",
        "plt.ylabel('No of times')\n",
        "plt.xlabel('Distance vector')\n",
        "plt.show()"
      ]
    },
    {
      "cell_type": "code",
      "execution_count": null,
      "metadata": {},
      "outputs": [],
      "source": [
        "plt.hist(train_df['dist_X'])\n",
        "plt.ylabel('No of times')\n",
        "plt.xlabel('X distance vector')\n",
        "plt.show()"
      ]
    },
    {
      "cell_type": "code",
      "execution_count": null,
      "metadata": {},
      "outputs": [],
      "source": [
        "plt.hist(train_df['dist_Y'])\n",
        "plt.ylabel('No of times')\n",
        "plt.xlabel('Y distance vector')\n",
        "plt.show()"
      ]
    },
    {
      "cell_type": "code",
      "execution_count": null,
      "metadata": {},
      "outputs": [],
      "source": [
        "plt.hist(train_df['dist_Z'])\n",
        "plt.ylabel('No of times')\n",
        "plt.xlabel('Z distance vector')\n",
        "plt.show()"
      ]
    },
    {
      "cell_type": "code",
      "execution_count": null,
      "metadata": {},
      "outputs": [],
      "source": [
        "train_df.head(5)"
      ]
    },
    {
      "cell_type": "code",
      "execution_count": null,
      "metadata": {},
      "outputs": [],
      "source": [
        "plt.figure(figsize=(10,8))\n",
        "plt.ylabel('Frequency')\n",
        "plt.xlabel('scalar coupling constant')\n",
        "sn.distplot(train_df['scalar_coupling_constant'])"
      ]
    },
    {
      "cell_type": "code",
      "execution_count": null,
      "metadata": {},
      "outputs": [],
      "source": [
        "plt.figure(figsize=(10,8))\n",
        "plt.ylabel('Frequency')\n",
        "plt.xlabel('Distance vector')\n",
        "sn.distplot(train_df['dist_vector'])"
      ]
    },
    {
      "cell_type": "code",
      "execution_count": null,
      "metadata": {},
      "outputs": [],
      "source": [
        "plt.figure(figsize=(10,8))\n",
        "plt.ylabel('Frequency')\n",
        "plt.xlabel('dist_X')\n",
        "sn.distplot(train_df['dist_X'])"
      ]
    },
    {
      "cell_type": "code",
      "execution_count": null,
      "metadata": {},
      "outputs": [],
      "source": [
        "plt.figure(figsize=(10,8))\n",
        "plt.ylabel('Frequency')\n",
        "plt.xlabel('dist_Y')\n",
        "sn.distplot(train_df['dist_Y'])"
      ]
    },
    {
      "cell_type": "code",
      "execution_count": null,
      "metadata": {},
      "outputs": [],
      "source": [
        "plt.figure(figsize=(10,8))\n",
        "plt.ylabel('Frequency')\n",
        "plt.xlabel('dist_Z')\n",
        "sn.distplot(train_df['dist_Z'])"
      ]
    },
    {
      "cell_type": "code",
      "execution_count": null,
      "metadata": {},
      "outputs": [],
      "source": [
        "Attributes=['atom_index_0','atom_index_1','type_0','x_0','y_0','z_0','atom_0',\n",
        "            'atom_1','x_1','y_1','z_1','dist_vector','dist_X','dist_Y','dist_Z']\n",
        "\n",
        "cat_attributes=['type_0','atom_0','atom_1']\n",
        "target_label=['scalar_coupling_constant']\n",
        "\n",
        "\n",
        "X_train=train_df[Attributes]\n",
        "X_test=test_df[Attributes]\n",
        "y_target=train_df[target_label]"
      ]
    },
    {
      "cell_type": "code",
      "execution_count": null,
      "metadata": {},
      "outputs": [],
      "source": [
        "X_train=pd.get_dummies(data=X_train,columns=cat_attributes)\n",
        "X_test=pd.get_dummies(data=X_test,columns=cat_attributes)"
      ]
    },
    {
      "cell_type": "code",
      "execution_count": null,
      "metadata": {},
      "outputs": [],
      "source": [
        "print(X_train.shape,X_test.shape)"
      ]
    },
    {
      "cell_type": "code",
      "execution_count": null,
      "metadata": {},
      "outputs": [],
      "source": [
        "X_1=X_train\n",
        "y_1=y_target"
      ]
    },
    {
      "cell_type": "code",
      "execution_count": null,
      "metadata": {},
      "outputs": [],
      "source": [
        "X_train.head(6)\n",
        "y_target.head(6)"
      ]
    },
    {
      "cell_type": "code",
      "execution_count": null,
      "metadata": {},
      "outputs": [],
      "source": [
        "threshold=0.95\n",
        "\n",
        "corr_matrix=train_df.corr().abs()\n",
        "\n",
        "\n",
        "upper=corr_matrix.where(np.triu(np.ones(corr_matrix.shape),k=1).astype(np.bool))"
      ]
    },
    {
      "cell_type": "code",
      "execution_count": null,
      "metadata": {},
      "outputs": [],
      "source": [
        "to_drop=[column for column in upper.columns if any(upper[column]>threshold)]\n",
        "print('There are are %d columns to remove.'%(len(to_drop)))"
      ]
    },
    {
      "cell_type": "code",
      "execution_count": null,
      "metadata": {},
      "outputs": [],
      "source": [
        "train_df=train_df.drop(columns=to_drop)\n",
        "test_df=test_df.drop(columns=to_drop)\n",
        "print('Training data shape',train_df.shape)\n",
        "print('Testing data shape',test_df.shape)"
      ]
    },
    {
      "cell_type": "code",
      "execution_count": null,
      "metadata": {},
      "outputs": [],
      "source": [
        "Attributes=['atom_index_0','atom_index_1','type_0','x_0','y_0','z_0','atom_0',\n",
        "            'atom_1','x_1','y_1','z_1','dist_vector','dist_X','dist_Y','dist_Z']\n",
        "\n",
        "cat_attributes=['type_0','atom_0','atom_1']\n",
        "target_label=['scalar_coupling_constant']\n",
        "\n",
        "\n",
        "X_train=train_df[Attributes]\n",
        "X_test=test_df[Attributes]\n",
        "y_target=train_df[target_label]"
      ]
    },
    {
      "cell_type": "code",
      "execution_count": null,
      "metadata": {},
      "outputs": [],
      "source": [
        "X_train=pd.get_dummies(data=X_train,columns=cat_attributes)\n",
        "X_test=pd.get_dummies(data=X_test,columns=cat_attributes)"
      ]
    },
    {
      "cell_type": "code",
      "execution_count": null,
      "metadata": {},
      "outputs": [],
      "source": [
        "print(X_train.shape,X_test.shape)"
      ]
    },
    {
      "cell_type": "code",
      "execution_count": null,
      "metadata": {},
      "outputs": [],
      "source": [
        "display(y_target.shape)"
      ]
    },
    {
      "cell_type": "code",
      "execution_count": null,
      "metadata": {},
      "outputs": [],
      "source": [
        "X_2=X_train\n",
        "y_2=y_target"
      ]
    },
    {
      "cell_type": "code",
      "execution_count": null,
      "metadata": {},
      "outputs": [],
      "source": [
        "X_train.head(6)\n",
        "X_test.head(6)\n",
        "y_target.head(6)"
      ]
    },
    {
      "cell_type": "markdown",
      "metadata": {
        "id": "1c-210g2-GbD"
      },
      "source": [
        "Comenzamos con el modelo de prediccion"
      ]
    },
    {
      "cell_type": "code",
      "execution_count": null,
      "metadata": {
        "id": "t-LB8Oa58C5B"
      },
      "outputs": [],
      "source": [
        "Attributes=['atom_index_0','atom_index_1','type_0','x_0','y_0','z_0','atom_0',\n",
        "            'atom_1','x_1','y_1','z_1','dist_vector','dist_X','dist_Y','dist_Z']\n",
        "\n",
        "cat_attributes=['type_0','atom_0','atom_1']\n",
        "target_label=['scalar_coupling_constant']\n",
        "\n",
        "\n",
        "X_train=train_df[Attributes]\n",
        "X_test=test_df[Attributes]\n",
        "y_target=train_df[target_label]"
      ]
    },
    {
      "cell_type": "code",
      "execution_count": null,
      "metadata": {
        "id": "j9kCTfgL8Cjj"
      },
      "outputs": [],
      "source": [
        "X_train=pd.get_dummies(data=X_train,columns=cat_attributes)\n",
        "X_test=pd.get_dummies(data=X_test,columns=cat_attributes)"
      ]
    },
    {
      "cell_type": "code",
      "execution_count": null,
      "metadata": {},
      "outputs": [],
      "source": [
        "print(X_train.shape,X_test.shape)"
      ]
    },
    {
      "cell_type": "code",
      "execution_count": null,
      "metadata": {},
      "outputs": [],
      "source": [
        "X_train.head(6)\n",
        "y_target.head(6)"
      ]
    },
    {
      "cell_type": "code",
      "execution_count": null,
      "metadata": {},
      "outputs": [],
      "source": [
        "threshold=0.95\n",
        "\n",
        "corr_matrix=train_df.corr().abs()\n",
        "\n",
        "\n",
        "upper=corr_matrix.where(np.triu(np.ones(corr_matrix.shape),k=1).astype(np.bool))"
      ]
    },
    {
      "cell_type": "code",
      "execution_count": null,
      "metadata": {},
      "outputs": [],
      "source": [
        "to_drop=[column for column in upper.columns if any(upper[column]>threshold)]\n",
        "print('There are are %d columns to remove.'%(len(to_drop)))"
      ]
    },
    {
      "cell_type": "code",
      "execution_count": null,
      "metadata": {},
      "outputs": [],
      "source": [
        "train_df=train_df.drop(columns=to_drop)\n",
        "test_df=test_df.drop(columns=to_drop)\n",
        "print('Training data shape',train_df.shape)\n",
        "print('Testing data shape',test_df.shape)"
      ]
    },
    {
      "cell_type": "code",
      "execution_count": null,
      "metadata": {},
      "outputs": [],
      "source": [
        "Attributes=['atom_index_0','atom_index_1','type_0','x_0','y_0','z_0','atom_0',\n",
        "            'atom_1','x_1','y_1','z_1','dist_vector','dist_X','dist_Y','dist_Z']\n",
        "\n",
        "cat_attributes=['type_0','atom_0','atom_1']\n",
        "target_label=['scalar_coupling_constant']\n",
        "\n",
        "\n",
        "X_train=train_df[Attributes]\n",
        "X_test=test_df[Attributes]\n",
        "y_target=train_df[target_label]"
      ]
    },
    {
      "cell_type": "code",
      "execution_count": null,
      "metadata": {},
      "outputs": [],
      "source": [
        "X_train=pd.get_dummies(data=X_train,columns=cat_attributes)\n",
        "X_test=pd.get_dummies(data=X_test,columns=cat_attributes)"
      ]
    },
    {
      "cell_type": "code",
      "execution_count": null,
      "metadata": {},
      "outputs": [],
      "source": [
        "print(X_train.shape,X_test.shape)"
      ]
    },
    {
      "cell_type": "code",
      "execution_count": null,
      "metadata": {},
      "outputs": [],
      "source": [
        "display(y_target.shape)"
      ]
    },
    {
      "cell_type": "code",
      "execution_count": null,
      "metadata": {},
      "outputs": [],
      "source": [
        "X_2=X_train\n",
        "y_2=y_target"
      ]
    },
    {
      "cell_type": "code",
      "execution_count": null,
      "metadata": {},
      "outputs": [],
      "source": [
        "X_train.head(6)\n",
        "X_test.head(6)\n",
        "y_target.head(6)"
      ]
    },
    {
      "cell_type": "markdown",
      "metadata": {},
      "source": [
        "Modelo linear"
      ]
    },
    {
      "cell_type": "code",
      "execution_count": null,
      "metadata": {},
      "outputs": [],
      "source": [
        "from sklearn import linear_model\n",
        "linear_reg=linear_model.LinearRegression()\n",
        "n_folds=5\n",
        "\n",
        "lin_reg_score=cross_val_score(linear_reg,X_train,y_target,\n",
        "                          scoring=make_scorer(mean_squared_error),\n",
        "                          cv=n_folds)\n",
        "lin_score=sum(lin_reg_score)/n_folds\n",
        "print('Lin_score:',lin_score)"
      ]
    },
    {
      "cell_type": "code",
      "execution_count": null,
      "metadata": {},
      "outputs": [],
      "source": [
        "lr_model=linear_reg.fit(X_train,y_target)\n",
        "score=np.round(lr_model.score(X_train,y_target),3)\n",
        "print('Accuracy of trained model:',score)\n",
        "model_coeff=np.round(lr_model.coef_,3)\n",
        "print('Model coefficients:',model_coeff)\n",
        "model_intercept=np.round(lr_model.intercept_,3)\n",
        "print('Model intercept value:',model_intercept)"
      ]
    },
    {
      "cell_type": "code",
      "execution_count": null,
      "metadata": {},
      "outputs": [],
      "source": [
        "from sklearn.metrics import r2_score\n",
        "y_pred=lr_model.predict(X_test)\n",
        "SCC=pd.read_csv('sample_submission.csv')#('../input/sample_submission.csv')\n",
        "SCC['scalar_coupling_constant']= y_pred\n",
        "SCC.to_csv('Linear_Regression_model.csv',index=False)\n",
        "y_pred"
      ]
    },
    {
      "cell_type": "markdown",
      "metadata": {
        "id": "1c-210g2-GbD"
      },
      "source": [
        "Modelo de  regresion de Lasso"
      ]
    },
    {
      "cell_type": "code",
      "execution_count": null,
      "metadata": {},
      "outputs": [],
      "source": [
        "#Tiempo de ejecucion de 1 hr\n",
        "from sklearn import linear_model\n",
        "lasso=linear_model.Lasso(alpha=0.001)\n",
        "n_folds=5\n",
        "\n",
        "lasso_score=cross_val_score(lasso,X_train,y_target,\n",
        "                          scoring=make_scorer(mean_squared_error),\n",
        "                          cv=n_folds)\n",
        "lasso_score=sum(lasso_score)/n_folds\n",
        "print('lasso_score:',lasso_score)\n",
        "print(lasso)"
      ]
    },
    {
      "cell_type": "code",
      "execution_count": null,
      "metadata": {},
      "outputs": [],
      "source": [
        "lasso_model=lasso.fit(X_train,y_target)\n",
        "score=np.round(lasso_model.score(X_train,y_target),3)\n",
        "print('Accuracy of trained model:',score)"
      ]
    },
    {
      "cell_type": "code",
      "execution_count": null,
      "metadata": {},
      "outputs": [],
      "source": [
        "y_pred=lasso_model.predict(X_test)\n",
        "SCC=pd.read_csv('sample_submission.csv')#('../input/sample_submission.csv')\n",
        "SCC['scalar_coupling_constant']= y_pred\n",
        "SCC.to_csv('Lasso_Regression_model.csv',index=False)\n",
        "y_pred"
      ]
    },
    {
      "cell_type": "code",
      "execution_count": null,
      "metadata": {},
      "outputs": [],
      "source": [
        "from sklearn import linear_model\n",
        "Elast=linear_model.ElasticNet(alpha=0.008,l1_ratio=0.5,random_state=42)\n",
        "n_folds=5\n",
        "\n",
        "Elast_score=cross_val_score(Elast,X_train,y_target,\n",
        "                          scoring=make_scorer(mean_squared_error),\n",
        "                          cv=n_folds)\n",
        "Elast_score=sum(Elast_score)/n_folds\n",
        "print('Elast_score:',Elast_score)\n",
        "print(Elast)"
      ]
    },
    {
      "cell_type": "code",
      "execution_count": null,
      "metadata": {},
      "outputs": [],
      "source": [
        "ElasticNet_model=linear_reg.fit(X_train,y_target)\n",
        "score=np.round(ElasticNet_model.score(X_train,y_target),3)\n",
        "print('Accuracy of trained model:',score)"
      ]
    },
    {
      "cell_type": "code",
      "execution_count": null,
      "metadata": {},
      "outputs": [],
      "source": [
        "y_pred=ElasticNet_model.predict(X_test)\n",
        "SCC=pd.read_csv('sample_submission.csv')#('../input/sample_submission.csv')\n",
        "SCC['scalar_coupling_constant']= y_pred\n",
        "SCC.to_csv('ElasticNet_Regression_model.csv',index=False)\n",
        "y_pred"
      ]
    },
    {
      "cell_type": "code",
      "execution_count": null,
      "metadata": {},
      "outputs": [],
      "source": [
        "from hyperopt import fmin,hp,tpe,Trials,space_eval,STATUS_OK,STATUS_RUNNING\n",
        "hyper_space={'objective':'regression',\n",
        "             'metric':'mape',\n",
        "             'boosting':'gbdt',\n",
        "             'n_estimators':hp.choice('n_estimators',[100,250,450,600,850,1000,2000,3000,4000,5000]),\n",
        "             'max_depth':hp.choice('max_depth',[5,10,15,20,25,30,35]),\n",
        "             'num_leaves':hp.choice('num_leaves',[45,60,95,125,145,200]),\n",
        "             'subsample':hp.choice('subsample',[.1,.2,.3,.4,0.5,0.6,0.7,0.8,0.9,1]),\n",
        "             'colsample_bytree': hp.choice('colsample_bytree',[.1,.2,.3,.4,.5,0.6,0.7,0.8,0.9,1.0]),\n",
        "             'learning_rate': hp.choice('learning_rate',[0.1,0.2,0.3,0.35,0.4,0.5]),\n",
        "             'reg_lambda': hp.choice('reg_lambda',[.1,.2,.3,.4,.5,.6,.7,.8,.9,1.0]),\n",
        "             'reg_alpha': hp.choice('reg_alpha',[.1,.2,.3,.4,.5,.6,.7,.8,.9,1.0]),\n",
        "             'min_child_samples':hp.choice('min_child_samples',[3,6,8,12,15])\n",
        "            }"
      ]
    },
    {
      "cell_type": "code",
      "execution_count": null,
      "metadata": {},
      "outputs": [],
      "source": [
        "def metric(df,pred):\n",
        "    df['diff']=(df['scalar_coupling_constant']-pred).abs()\n",
        "    return np.log(df.groupby([['type']])['diff'].mean().map(lambda x:max(x,1e-9))).mean()"
      ]
    }
  ],
  "metadata": {
    "colab": {
      "authorship_tag": "ABX9TyPkswLmmfAxMFKtetjXdrxz",
      "collapsed_sections": [],
      "include_colab_link": true,
      "name": "propiedades_moleculares.ipynb",
      "provenance": []
    },
    "kernelspec": {
      "display_name": "Python 3.10.4 64-bit",
      "language": "python",
      "name": "python3"
    },
    "language_info": {
      "name": "python",
      "version": "3.10.4"
    },
    "vscode": {
      "interpreter": {
        "hash": "876db7d3f8682b7e4c5477e5f1e2dc2bd1b19fe05d9aabd59218369070754b39"
      }
    }
  },
  "nbformat": 4,
  "nbformat_minor": 0
}
